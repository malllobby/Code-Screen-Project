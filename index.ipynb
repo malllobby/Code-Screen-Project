{
 "cells": [
  {
   "cell_type": "markdown",
   "metadata": {},
   "source": [
    "# Fibonacci Sequence"
   ]
  },
  {
   "cell_type": "markdown",
   "metadata": {},
   "source": [
    "The *Fibonacci Sequence* is the series of numbers:\n",
    "\n",
    "**0, 1, 1, 2, 3, 5, 8, 13, 21, 34, ...**\n",
    "\n",
    "The next number is found by adding up the two numbers before it.\n",
    "\n",
    "* The 2 is found by adding the two numbers before it (1+1)\n",
    "* The 3 is found by adding the two numbers before it (1+2),\n",
    "* And the 5 is (2+3),\n",
    "* and so on!\n",
    "\n",
    "The rule of *Fibonacci Sequence* is \n",
    "\n",
    "*$x_n = x_{n-1} + x_{n-2}$*\n",
    "\n",
    "where:\n",
    "\n",
    "$x_n$ is term number \"n\"   \n",
    "$x_{n-1}$ is the previous term (n-1)   \n",
    "$x_{n-2}$ is the term before that (n-2)   \n",
    "\n",
    "*source* : https://www.mathsisfun.com/numbers/fibonacci-sequence.html\n",
    "\n"
   ]
  },
  {
   "cell_type": "markdown",
   "metadata": {},
   "source": [
    "### Let's implement this rule with Python"
   ]
  },
  {
   "cell_type": "code",
   "execution_count": 1,
   "metadata": {},
   "outputs": [],
   "source": [
    "import time"
   ]
  },
  {
   "cell_type": "code",
   "execution_count": 2,
   "metadata": {},
   "outputs": [],
   "source": [
    "def test_fibonacci(function_name, counts=40):\n",
    "    result = {}\n",
    "    for i in range(0, counts + 1):\n",
    "         print(f'{i} : {function_name(i):,}')                       "
   ]
  },
  {
   "cell_type": "markdown",
   "metadata": {},
   "source": [
    "## With for loop"
   ]
  },
  {
   "cell_type": "code",
   "execution_count": 3,
   "metadata": {},
   "outputs": [],
   "source": [
    "# using for loop \n",
    "\n",
    "def fibonacci_loop(num):\n",
    "    if num == 0:\n",
    "        return 0\n",
    "    elif num == 1 or num == 2:\n",
    "        return 1\n",
    "    elif num > 2:\n",
    "        a = 1 # variable for (n - 1)\n",
    "        b = 1 # variable for (n - 2)\n",
    "        for _ in range(3, num + 1):\n",
    "            c = a + b\n",
    "            a, b = b, c\n",
    "            \n",
    "        return c"
   ]
  },
  {
   "cell_type": "code",
   "execution_count": 4,
   "metadata": {},
   "outputs": [
    {
     "name": "stdout",
     "output_type": "stream",
     "text": [
      "0 : 0\n",
      "1 : 1\n",
      "2 : 1\n",
      "3 : 2\n",
      "4 : 3\n",
      "5 : 5\n",
      "6 : 8\n",
      "7 : 13\n",
      "8 : 21\n",
      "9 : 34\n",
      "10 : 55\n",
      "11 : 89\n",
      "12 : 144\n",
      "13 : 233\n",
      "14 : 377\n",
      "15 : 610\n",
      "16 : 987\n",
      "17 : 1,597\n",
      "18 : 2,584\n",
      "19 : 4,181\n",
      "20 : 6,765\n",
      "21 : 10,946\n",
      "22 : 17,711\n",
      "23 : 28,657\n",
      "24 : 46,368\n",
      "25 : 75,025\n",
      "26 : 121,393\n",
      "27 : 196,418\n",
      "28 : 317,811\n",
      "29 : 514,229\n",
      "30 : 832,040\n",
      "31 : 1,346,269\n",
      "32 : 2,178,309\n",
      "33 : 3,524,578\n",
      "34 : 5,702,887\n",
      "35 : 9,227,465\n",
      "36 : 14,930,352\n",
      "37 : 24,157,817\n",
      "38 : 39,088,169\n",
      "39 : 63,245,986\n",
      "40 : 102,334,155\n"
     ]
    }
   ],
   "source": [
    "test_fibonacci(fibonacci_loop)"
   ]
  },
  {
   "cell_type": "code",
   "execution_count": 5,
   "metadata": {},
   "outputs": [
    {
     "name": "stdout",
     "output_type": "stream",
     "text": [
      "CPU times: user 6 µs, sys: 0 ns, total: 6 µs\n",
      "Wall time: 8.11 µs\n"
     ]
    },
    {
     "data": {
      "text/plain": [
       "102334155"
      ]
     },
     "execution_count": 5,
     "metadata": {},
     "output_type": "execute_result"
    }
   ],
   "source": [
    "%time fibonacci_loop(40)"
   ]
  },
  {
   "cell_type": "markdown",
   "metadata": {},
   "source": [
    "## With recursion\n",
    "\n",
    "We can solve the problem with for-loop, but it is not so intuitive. <br>\n",
    "From the rule of fibonacci sequence *($x_n = x_{n-1} + x_{n-2}$)*  , <br> \n",
    "we can make a function that call itself,\n",
    "it is called *recursive* function."
   ]
  },
  {
   "cell_type": "code",
   "execution_count": 6,
   "metadata": {},
   "outputs": [],
   "source": [
    "# Recursive Method 1 : traditional recursive function\n",
    "\n",
    "def fibonacci_recursion(num):\n",
    "    '''Return a fibonacci sequence value of num'''\n",
    "    if num == 0:\n",
    "        return 0\n",
    "    if num == 1 or num == 2:\n",
    "        return 1\n",
    "    \n",
    "    return fibonacci_recursion(num - 2) + fibonacci_recursion(num - 1)\n"
   ]
  },
  {
   "cell_type": "code",
   "execution_count": 7,
   "metadata": {},
   "outputs": [
    {
     "name": "stdout",
     "output_type": "stream",
     "text": [
      "0 : 0\n",
      "1 : 1\n",
      "2 : 1\n",
      "3 : 2\n",
      "4 : 3\n",
      "5 : 5\n",
      "6 : 8\n",
      "7 : 13\n",
      "8 : 21\n",
      "9 : 34\n",
      "10 : 55\n",
      "11 : 89\n",
      "12 : 144\n",
      "13 : 233\n",
      "14 : 377\n",
      "15 : 610\n",
      "16 : 987\n",
      "17 : 1,597\n",
      "18 : 2,584\n",
      "19 : 4,181\n",
      "20 : 6,765\n",
      "21 : 10,946\n",
      "22 : 17,711\n",
      "23 : 28,657\n",
      "24 : 46,368\n",
      "25 : 75,025\n",
      "26 : 121,393\n",
      "27 : 196,418\n",
      "28 : 317,811\n",
      "29 : 514,229\n",
      "30 : 832,040\n",
      "31 : 1,346,269\n",
      "32 : 2,178,309\n",
      "33 : 3,524,578\n",
      "34 : 5,702,887\n",
      "35 : 9,227,465\n",
      "36 : 14,930,352\n",
      "37 : 24,157,817\n",
      "38 : 39,088,169\n",
      "39 : 63,245,986\n",
      "40 : 102,334,155\n"
     ]
    }
   ],
   "source": [
    "# Test with recursion\n",
    "test_fibonacci(fibonacci_recursion)"
   ]
  },
  {
   "cell_type": "code",
   "execution_count": 8,
   "metadata": {},
   "outputs": [
    {
     "name": "stdout",
     "output_type": "stream",
     "text": [
      "CPU times: user 26.5 s, sys: 64 ms, total: 26.6 s\n",
      "Wall time: 26.6 s\n"
     ]
    },
    {
     "data": {
      "text/plain": [
       "102334155"
      ]
     },
     "execution_count": 8,
     "metadata": {},
     "output_type": "execute_result"
    }
   ],
   "source": [
    "%time fibonacci_recursion(40)"
   ]
  },
  {
   "cell_type": "markdown",
   "metadata": {},
   "source": [
    "## Quiet slow??"
   ]
  },
  {
   "cell_type": "markdown",
   "metadata": {},
   "source": [
    "It takes more and more time while the number is increased.  \n",
    "Because the function itself is needed to calculate same value over and over.    \n",
    "We can reduce total number of calling the function with saving the result to **cache**."
   ]
  },
  {
   "cell_type": "code",
   "execution_count": 9,
   "metadata": {},
   "outputs": [],
   "source": [
    "# Recursive Method 2 : With using explicit cache\n",
    "cache = {}\n",
    "\n",
    "def fibonacci_cache(num):\n",
    "    '''Return a fibonacci sequence value of num'''\n",
    "\n",
    "    if num in cache:\n",
    "        return cache[num]\n",
    "\n",
    "    if num == 0:\n",
    "        result = 0\n",
    "    elif num == 1 or num == 2:\n",
    "        result = 1\n",
    "    else:\n",
    "        result = fibonacci_cache(num - 2) + fibonacci_cache(num - 1)\n",
    "    \n",
    "    cache[num] = result\n",
    "    return result\n"
   ]
  },
  {
   "cell_type": "code",
   "execution_count": 10,
   "metadata": {},
   "outputs": [
    {
     "name": "stdout",
     "output_type": "stream",
     "text": [
      "0 : 0\n",
      "1 : 1\n",
      "2 : 1\n",
      "3 : 2\n",
      "4 : 3\n",
      "5 : 5\n",
      "6 : 8\n",
      "7 : 13\n",
      "8 : 21\n",
      "9 : 34\n",
      "10 : 55\n",
      "11 : 89\n",
      "12 : 144\n",
      "13 : 233\n",
      "14 : 377\n",
      "15 : 610\n",
      "16 : 987\n",
      "17 : 1,597\n",
      "18 : 2,584\n",
      "19 : 4,181\n",
      "20 : 6,765\n",
      "21 : 10,946\n",
      "22 : 17,711\n",
      "23 : 28,657\n",
      "24 : 46,368\n",
      "25 : 75,025\n",
      "26 : 121,393\n",
      "27 : 196,418\n",
      "28 : 317,811\n",
      "29 : 514,229\n",
      "30 : 832,040\n",
      "31 : 1,346,269\n",
      "32 : 2,178,309\n",
      "33 : 3,524,578\n",
      "34 : 5,702,887\n",
      "35 : 9,227,465\n",
      "36 : 14,930,352\n",
      "37 : 24,157,817\n",
      "38 : 39,088,169\n",
      "39 : 63,245,986\n",
      "40 : 102,334,155\n"
     ]
    }
   ],
   "source": [
    "# Test with using explicit cache\n",
    "test_fibonacci(fibonacci_cache)"
   ]
  },
  {
   "cell_type": "code",
   "execution_count": 11,
   "metadata": {},
   "outputs": [
    {
     "name": "stdout",
     "output_type": "stream",
     "text": [
      "CPU times: user 2 µs, sys: 0 ns, total: 2 µs\n",
      "Wall time: 5.01 µs\n"
     ]
    },
    {
     "data": {
      "text/plain": [
       "102334155"
      ]
     },
     "execution_count": 11,
     "metadata": {},
     "output_type": "execute_result"
    }
   ],
   "source": [
    "%time fibonacci_cache(40)"
   ]
  },
  {
   "cell_type": "markdown",
   "metadata": {},
   "source": [
    " same result but super faster than normal recursive function"
   ]
  },
  {
   "cell_type": "markdown",
   "metadata": {},
   "source": [
    "## Using LRU cache"
   ]
  },
  {
   "cell_type": "markdown",
   "metadata": {},
   "source": [
    "Python provides a **functools** library  helps the recursive function calls,   \n",
    "let's use Least Recently Used cache *(lru_cache)* from functools"
   ]
  },
  {
   "cell_type": "code",
   "execution_count": 12,
   "metadata": {},
   "outputs": [],
   "source": [
    "# import library\n",
    "from functools import lru_cache"
   ]
  },
  {
   "cell_type": "code",
   "execution_count": 13,
   "metadata": {},
   "outputs": [],
   "source": [
    "# Recursive Method 3 : with implicit cache provided by functools\n",
    "\n",
    "# set cache with 1000 (need to set a big values, small cache is NOT useful)\n",
    "@lru_cache(maxsize = 1000)\n",
    "\n",
    "def fibonacci(num):\n",
    "    '''Return a fibonacci sequence value of num'''\n",
    "\n",
    "    if num == 0:\n",
    "        return 0\n",
    "    if num == 1 or num == 2:\n",
    "        return 1\n",
    "    \n",
    "    return fibonacci(num - 2) + fibonacci(num - 1)"
   ]
  },
  {
   "cell_type": "code",
   "execution_count": 14,
   "metadata": {},
   "outputs": [
    {
     "name": "stdout",
     "output_type": "stream",
     "text": [
      "0 : 0\n",
      "1 : 1\n",
      "2 : 1\n",
      "3 : 2\n",
      "4 : 3\n",
      "5 : 5\n",
      "6 : 8\n",
      "7 : 13\n",
      "8 : 21\n",
      "9 : 34\n",
      "10 : 55\n",
      "11 : 89\n",
      "12 : 144\n",
      "13 : 233\n",
      "14 : 377\n",
      "15 : 610\n",
      "16 : 987\n",
      "17 : 1,597\n",
      "18 : 2,584\n",
      "19 : 4,181\n",
      "20 : 6,765\n",
      "21 : 10,946\n",
      "22 : 17,711\n",
      "23 : 28,657\n",
      "24 : 46,368\n",
      "25 : 75,025\n",
      "26 : 121,393\n",
      "27 : 196,418\n",
      "28 : 317,811\n",
      "29 : 514,229\n",
      "30 : 832,040\n",
      "31 : 1,346,269\n",
      "32 : 2,178,309\n",
      "33 : 3,524,578\n",
      "34 : 5,702,887\n",
      "35 : 9,227,465\n",
      "36 : 14,930,352\n",
      "37 : 24,157,817\n",
      "38 : 39,088,169\n",
      "39 : 63,245,986\n",
      "40 : 102,334,155\n"
     ]
    }
   ],
   "source": [
    "test_fibonacci(fibonacci)"
   ]
  },
  {
   "cell_type": "code",
   "execution_count": 15,
   "metadata": {},
   "outputs": [
    {
     "name": "stdout",
     "output_type": "stream",
     "text": [
      "CPU times: user 3 µs, sys: 0 ns, total: 3 µs\n",
      "Wall time: 5.25 µs\n"
     ]
    },
    {
     "data": {
      "text/plain": [
       "102334155"
      ]
     },
     "execution_count": 15,
     "metadata": {},
     "output_type": "execute_result"
    }
   ],
   "source": [
    "%time fibonacci(40)"
   ]
  },
  {
   "cell_type": "markdown",
   "metadata": {},
   "source": [
    "Little differ time values, but it could be ignored. (just some micro seconds)"
   ]
  },
  {
   "cell_type": "markdown",
   "metadata": {},
   "source": [
    "## Conclusion"
   ]
  },
  {
   "cell_type": "markdown",
   "metadata": {},
   "source": [
    "**We need to set *lru_cache* when using recursive function for performance**"
   ]
  },
  {
   "cell_type": "code",
   "execution_count": null,
   "metadata": {},
   "outputs": [],
   "source": []
  }
 ],
 "metadata": {
  "kernelspec": {
   "display_name": "Python 3",
   "language": "python",
   "name": "python3"
  },
  "language_info": {
   "codemirror_mode": {
    "name": "ipython",
    "version": 3
   },
   "file_extension": ".py",
   "mimetype": "text/x-python",
   "name": "python",
   "nbconvert_exporter": "python",
   "pygments_lexer": "ipython3",
   "version": "3.7.3"
  }
 },
 "nbformat": 4,
 "nbformat_minor": 2
}
